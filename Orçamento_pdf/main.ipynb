{
 "cells": [
  {
   "cell_type": "code",
   "execution_count": 5,
   "metadata": {},
   "outputs": [],
   "source": [
    "# BIBLIOTECAS\n",
    "from fpdf import FPDF\n",
    "import os"
   ]
  },
  {
   "cell_type": "code",
   "execution_count": 6,
   "metadata": {},
   "outputs": [
    {
     "data": {
      "text/plain": [
       "'c:\\\\Users\\\\marce\\\\OneDrive\\\\Documentos\\\\GitRepositorios\\\\Portfolio_Python\\\\Orçamento_pdf'"
      ]
     },
     "execution_count": 6,
     "metadata": {},
     "output_type": "execute_result"
    }
   ],
   "source": [
    "os.getcwd()"
   ]
  },
  {
   "cell_type": "code",
   "execution_count": null,
   "metadata": {},
   "outputs": [],
   "source": [
    "projeto = input(\"Digite a descrição do projeto\")\n",
    "horas_estimadas = input(\"Digite o total de horas estimadas\")\n",
    "valor_hora = input(\"Digite o valor da hora trabalhada\")\n",
    "prazo = input(\"Digite o prazo estimado para conclusão\")\n",
    "cliente = input(\"Digite o nome do Cliente\")\n",
    "autor = \"Marcello Queiroz\"\n",
    "\n",
    "valor_total = int(horas_estimadas)*int(valor_hora)\n",
    "\n",
    "pdf = FPDF()\n",
    "pdf.add_page()\n",
    "pdf.set_author(autor)\n",
    "pdf.set_font(\"Arial\")\n",
    "\n",
    "file_path = 'c:\\\\Users\\\\marce\\\\OneDrive\\\\Documentos\\\\GitRepositorios\\\\Portfolio_Python\\\\Orçamento_pdf\\\\template.png'\n",
    "pdf.image(file_path, x=0, y=0)\n",
    "\n",
    "pdf.text(115,145,projeto)\n",
    "pdf.text(115,160,horas_estimadas)\n",
    "pdf.text(115,190,prazo)\n",
    "pdf.text(115,205,str(valor_total))\n",
    "\n",
    "pdf.output(f\"Orçamento {cliente}.pdf\")\n",
    "print(\"Orçamento gerado com sucesso!\")"
   ]
  }
 ],
 "metadata": {
  "kernelspec": {
   "display_name": "Python 3",
   "language": "python",
   "name": "python3"
  },
  "language_info": {
   "codemirror_mode": {
    "name": "ipython",
    "version": 3
   },
   "file_extension": ".py",
   "mimetype": "text/x-python",
   "name": "python",
   "nbconvert_exporter": "python",
   "pygments_lexer": "ipython3",
   "version": "3.12.4"
  }
 },
 "nbformat": 4,
 "nbformat_minor": 2
}
